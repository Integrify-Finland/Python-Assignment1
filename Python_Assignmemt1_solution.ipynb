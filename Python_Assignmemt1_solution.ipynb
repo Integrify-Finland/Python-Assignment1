{
  "nbformat": 4,
  "nbformat_minor": 0,
  "metadata": {
    "colab": {
      "provenance": [],
      "authorship_tag": "ABX9TyOMG9nNoQ1vhekylZHT+K5W",
      "include_colab_link": true
    },
    "kernelspec": {
      "name": "python3",
      "display_name": "Python 3"
    },
    "language_info": {
      "name": "python"
    }
  },
  "cells": [
    {
      "cell_type": "markdown",
      "metadata": {
        "id": "view-in-github",
        "colab_type": "text"
      },
      "source": [
        "<a href=\"https://colab.research.google.com/github/afshari-maryam/Python-Assignment1/blob/main/Python_Assignmemt1_solution.ipynb\" target=\"_parent\"><img src=\"https://colab.research.google.com/assets/colab-badge.svg\" alt=\"Open In Colab\"/></a>"
      ]
    },
    {
      "cell_type": "markdown",
      "source": [
        "#Python-Assignmemt1"
      ],
      "metadata": {
        "id": "PtuYsp4ija6I"
      }
    },
    {
      "cell_type": "markdown",
      "source": [
        "This assignmet is about Python Data Types\n",
        "\n",
        "Python Basics: Data types"
      ],
      "metadata": {
        "id": "zaSOvlQmjeGY"
      }
    },
    {
      "cell_type": "markdown",
      "source": [
        "#1.\n",
        " Use the constructor methods to create different data types in python (integer,float,string,list,tuple,dictionary,set etc.). Also use object literals to create those data types.**"
      ],
      "metadata": {
        "id": "SBXLMufIjgtf"
      }
    },
    {
      "cell_type": "code",
      "execution_count": null,
      "metadata": {
        "id": "D6rIe8GajB9r",
        "outputId": "9f2b4605-5094-4ad1-b604-ec503a0e70c6",
        "colab": {
          "base_uri": "https://localhost:8080/"
        }
      },
      "outputs": [
        {
          "output_type": "execute_result",
          "data": {
            "text/plain": [
              "10"
            ]
          },
          "metadata": {},
          "execution_count": 2
        }
      ],
      "source": [
        "#Integer \n",
        "#constructor method\n",
        "x = int(10)\n",
        "x"
      ]
    },
    {
      "cell_type": "code",
      "source": [
        "#Integer \n",
        "#object litteral\n",
        "x=10\n",
        "x"
      ],
      "metadata": {
        "id": "vymR-L__l8Xx",
        "outputId": "c4e5174b-641b-4bd6-d5d7-6de8e53bc1d0",
        "colab": {
          "base_uri": "https://localhost:8080/"
        }
      },
      "execution_count": null,
      "outputs": [
        {
          "output_type": "execute_result",
          "data": {
            "text/plain": [
              "10"
            ]
          },
          "metadata": {},
          "execution_count": 3
        }
      ]
    },
    {
      "cell_type": "code",
      "source": [
        "#Float\n",
        "#constructor method\n",
        "y = float(5.67)\n",
        "y"
      ],
      "metadata": {
        "id": "FiKYxB5NmSsG",
        "outputId": "0575bac1-5299-4afc-a106-7a4e73e465ed",
        "colab": {
          "base_uri": "https://localhost:8080/"
        }
      },
      "execution_count": null,
      "outputs": [
        {
          "output_type": "execute_result",
          "data": {
            "text/plain": [
              "5.67"
            ]
          },
          "metadata": {},
          "execution_count": 6
        }
      ]
    },
    {
      "cell_type": "code",
      "source": [
        "#Float\n",
        "#object litteral\n",
        "y = 5.67\n",
        "y"
      ],
      "metadata": {
        "id": "YhINmVzKmfol",
        "outputId": "95d8be24-42eb-4e9d-9c25-dfa7ab3aab29",
        "colab": {
          "base_uri": "https://localhost:8080/"
        }
      },
      "execution_count": null,
      "outputs": [
        {
          "output_type": "execute_result",
          "data": {
            "text/plain": [
              "5.67"
            ]
          },
          "metadata": {},
          "execution_count": 7
        }
      ]
    },
    {
      "cell_type": "code",
      "source": [
        "#String\n",
        "#constructor method\n",
        "s = str(\"hello Integrify\")\n",
        "s"
      ],
      "metadata": {
        "colab": {
          "base_uri": "https://localhost:8080/",
          "height": 36
        },
        "id": "4QOpZpa6mlgv",
        "outputId": "c16676fb-ab06-4e09-e2a6-f1d04590e139"
      },
      "execution_count": null,
      "outputs": [
        {
          "output_type": "execute_result",
          "data": {
            "text/plain": [
              "'hello Integrify'"
            ],
            "application/vnd.google.colaboratory.intrinsic+json": {
              "type": "string"
            }
          },
          "metadata": {},
          "execution_count": 8
        }
      ]
    },
    {
      "cell_type": "code",
      "source": [
        "#String\n",
        "#object litteral\n",
        "s = \"hello Integrify\"\n",
        "s"
      ],
      "metadata": {
        "id": "bvGdaelKm5e6",
        "outputId": "2d7150ae-67a5-4447-9e14-19d877fc74c8",
        "colab": {
          "base_uri": "https://localhost:8080/",
          "height": 36
        }
      },
      "execution_count": null,
      "outputs": [
        {
          "output_type": "execute_result",
          "data": {
            "text/plain": [
              "'hello Integrify'"
            ],
            "application/vnd.google.colaboratory.intrinsic+json": {
              "type": "string"
            }
          },
          "metadata": {},
          "execution_count": 11
        }
      ]
    },
    {
      "cell_type": "code",
      "source": [
        "#List\n",
        "#constructor method\n",
        "L = list([10,9,8])\n",
        "L"
      ],
      "metadata": {
        "colab": {
          "base_uri": "https://localhost:8080/"
        },
        "id": "_udC6WEXnPnP",
        "outputId": "cd60936b-e8a4-4d77-ef74-4613aa4d2fe7"
      },
      "execution_count": null,
      "outputs": [
        {
          "output_type": "execute_result",
          "data": {
            "text/plain": [
              "[10, 9, 8]"
            ]
          },
          "metadata": {},
          "execution_count": 25
        }
      ]
    },
    {
      "cell_type": "code",
      "source": [
        "#List\n",
        "#object litteral\n",
        "L = [10,9,8]\n",
        "L"
      ],
      "metadata": {
        "outputId": "f0377f6d-8440-4fe7-a529-2547d9173fbd",
        "colab": {
          "base_uri": "https://localhost:8080/"
        },
        "id": "U1z1a_unncv5"
      },
      "execution_count": null,
      "outputs": [
        {
          "output_type": "execute_result",
          "data": {
            "text/plain": [
              "[10, 9, 8]"
            ]
          },
          "metadata": {},
          "execution_count": 26
        }
      ]
    },
    {
      "cell_type": "code",
      "source": [
        "#Tuple\n",
        "#constructor method\n",
        "T = tuple((1, 2, 3,4,5,6))\n",
        "T"
      ],
      "metadata": {
        "colab": {
          "base_uri": "https://localhost:8080/"
        },
        "outputId": "93f7a5c4-b48a-4743-e7c5-85643db9c8dd",
        "id": "Ws47kX3enmSp"
      },
      "execution_count": null,
      "outputs": [
        {
          "output_type": "execute_result",
          "data": {
            "text/plain": [
              "(1, 2, 3, 4, 5, 6)"
            ]
          },
          "metadata": {},
          "execution_count": 15
        }
      ]
    },
    {
      "cell_type": "code",
      "source": [
        "#Tuple\n",
        "#object litteral\n",
        "T = (1, 2, 3,4,5,6)\n",
        "T"
      ],
      "metadata": {
        "colab": {
          "base_uri": "https://localhost:8080/"
        },
        "outputId": "745efcf1-1410-4020-8e44-1c9bf29b4f9b",
        "id": "v9QZLR3Qn0Ro"
      },
      "execution_count": null,
      "outputs": [
        {
          "output_type": "execute_result",
          "data": {
            "text/plain": [
              "(1, 2, 3, 4, 5, 6)"
            ]
          },
          "metadata": {},
          "execution_count": 16
        }
      ]
    },
    {
      "cell_type": "code",
      "source": [
        "#Dictionary\n",
        "#constructor method\n",
        "D = dict({\"name\": \"Maryam\",\"Id_number\":123456, \"age\": 24})\n",
        "D"
      ],
      "metadata": {
        "id": "Zj3vTCVJn8rQ",
        "outputId": "9d75adbb-ae9b-46e2-b9db-f2fbc39d77a4",
        "colab": {
          "base_uri": "https://localhost:8080/"
        }
      },
      "execution_count": null,
      "outputs": [
        {
          "output_type": "execute_result",
          "data": {
            "text/plain": [
              "{'name': 'Maryam', 'Id_number': 123456, 'age': 24}"
            ]
          },
          "metadata": {},
          "execution_count": 19
        }
      ]
    },
    {
      "cell_type": "code",
      "source": [
        "#Dictionary\n",
        "#object litteral\n",
        "D = {\"name\": \"Maryam\",\"Id_number\":123456, \"age\": 24}\n",
        "D"
      ],
      "metadata": {
        "id": "t3LFOc7voRtm",
        "outputId": "d6d1778a-e400-4450-f32d-e5267ab9ed74",
        "colab": {
          "base_uri": "https://localhost:8080/"
        }
      },
      "execution_count": null,
      "outputs": [
        {
          "output_type": "execute_result",
          "data": {
            "text/plain": [
              "{'name': 'Maryam', 'Id_number': 123456, 'age': 24}"
            ]
          },
          "metadata": {},
          "execution_count": 22
        }
      ]
    },
    {
      "cell_type": "code",
      "source": [
        "#Set\n",
        "#constructor method\n",
        "z = set([10,9,8])\n",
        "z"
      ],
      "metadata": {
        "colab": {
          "base_uri": "https://localhost:8080/"
        },
        "id": "GdirNE2Iogtu",
        "outputId": "6f3d9e8b-c2a9-4b6b-e37c-951ad4fd856a"
      },
      "execution_count": null,
      "outputs": [
        {
          "output_type": "execute_result",
          "data": {
            "text/plain": [
              "{8, 9, 10}"
            ]
          },
          "metadata": {},
          "execution_count": 21
        }
      ]
    },
    {
      "cell_type": "code",
      "source": [
        "#Set\n",
        "#object litteral\n",
        "z =  {10,9,8}\n",
        "z"
      ],
      "metadata": {
        "outputId": "2ff7987d-490a-482e-d09b-cf4fc34cbbe1",
        "colab": {
          "base_uri": "https://localhost:8080/"
        },
        "id": "P4HE2ei3opY9"
      },
      "execution_count": null,
      "outputs": [
        {
          "output_type": "execute_result",
          "data": {
            "text/plain": [
              "{8, 9, 10}"
            ]
          },
          "metadata": {},
          "execution_count": 24
        }
      ]
    },
    {
      "cell_type": "markdown",
      "source": [
        "#2. \n",
        "Operators in python https://www.w3schools.com/python/python_operators.asp\n",
        "Create two operands and play around using different operators\n"
      ],
      "metadata": {
        "id": "O-SX6fOJp0ua"
      }
    },
    {
      "cell_type": "code",
      "source": [
        "# Addition operator\n",
        "x = 7\n",
        "y = 12\n",
        "result = x + y\n",
        "print(result) \n"
      ],
      "metadata": {
        "colab": {
          "base_uri": "https://localhost:8080/"
        },
        "id": "wRT6OyxPp5H8",
        "outputId": "3bcc202c-c02c-49bf-edb0-4fa72424d4ae"
      },
      "execution_count": 27,
      "outputs": [
        {
          "output_type": "stream",
          "name": "stdout",
          "text": [
            "19\n"
          ]
        }
      ]
    },
    {
      "cell_type": "code",
      "source": [
        "# Addition operator\n",
        "x = 7\n",
        "y = 13\n",
        "result = x + y\n",
        "print(result) "
      ],
      "metadata": {
        "colab": {
          "base_uri": "https://localhost:8080/"
        },
        "id": "NUD4Z073p80x",
        "outputId": "3b37a918-f840-434d-f4a0-0cdbcd034004"
      },
      "execution_count": 28,
      "outputs": [
        {
          "output_type": "stream",
          "name": "stdout",
          "text": [
            "20\n"
          ]
        }
      ]
    },
    {
      "cell_type": "code",
      "source": [
        "\n",
        "# Multiplication operator\n",
        "x = 4\n",
        "y = 5\n",
        "result = x * y\n",
        "print(result)\n"
      ],
      "metadata": {
        "colab": {
          "base_uri": "https://localhost:8080/"
        },
        "id": "NVqj3PeAqJgL",
        "outputId": "105d2176-8099-4311-cdbe-cae44ef008f2"
      },
      "execution_count": 29,
      "outputs": [
        {
          "output_type": "stream",
          "name": "stdout",
          "text": [
            "20\n"
          ]
        }
      ]
    },
    {
      "cell_type": "code",
      "source": [
        "\n",
        "# Division operator\n",
        "x = 10\n",
        "y = 2\n",
        "result = x / y\n",
        "print(result) \n"
      ],
      "metadata": {
        "colab": {
          "base_uri": "https://localhost:8080/"
        },
        "id": "VaO6qK8XqVkI",
        "outputId": "e7c36b32-1a08-4b41-9905-d9141b6b7f19"
      },
      "execution_count": 30,
      "outputs": [
        {
          "output_type": "stream",
          "name": "stdout",
          "text": [
            "5.0\n"
          ]
        }
      ]
    },
    {
      "cell_type": "code",
      "source": [
        "\n",
        "# Division operator\n",
        "x = 10\n",
        "y = 0\n",
        "result = x / y\n",
        "print(result) "
      ],
      "metadata": {
        "id": "YK4bCwCSqkLn",
        "outputId": "a8f47456-e3fd-4355-8103-55e3a1564dbf",
        "colab": {
          "base_uri": "https://localhost:8080/",
          "height": 217
        }
      },
      "execution_count": 31,
      "outputs": [
        {
          "output_type": "error",
          "ename": "ZeroDivisionError",
          "evalue": "ignored",
          "traceback": [
            "\u001b[0;31m---------------------------------------------------------------------------\u001b[0m",
            "\u001b[0;31mZeroDivisionError\u001b[0m                         Traceback (most recent call last)",
            "\u001b[0;32m<ipython-input-31-8996f413d79c>\u001b[0m in \u001b[0;36m<module>\u001b[0;34m\u001b[0m\n\u001b[1;32m      2\u001b[0m \u001b[0mx\u001b[0m \u001b[0;34m=\u001b[0m \u001b[0;36m10\u001b[0m\u001b[0;34m\u001b[0m\u001b[0;34m\u001b[0m\u001b[0m\n\u001b[1;32m      3\u001b[0m \u001b[0my\u001b[0m \u001b[0;34m=\u001b[0m \u001b[0;36m0\u001b[0m\u001b[0;34m\u001b[0m\u001b[0;34m\u001b[0m\u001b[0m\n\u001b[0;32m----> 4\u001b[0;31m \u001b[0mresult\u001b[0m \u001b[0;34m=\u001b[0m \u001b[0mx\u001b[0m \u001b[0;34m/\u001b[0m \u001b[0my\u001b[0m\u001b[0;34m\u001b[0m\u001b[0;34m\u001b[0m\u001b[0m\n\u001b[0m\u001b[1;32m      5\u001b[0m \u001b[0mprint\u001b[0m\u001b[0;34m(\u001b[0m\u001b[0mresult\u001b[0m\u001b[0;34m)\u001b[0m\u001b[0;34m\u001b[0m\u001b[0;34m\u001b[0m\u001b[0m\n",
            "\u001b[0;31mZeroDivisionError\u001b[0m: division by zero"
          ]
        }
      ]
    },
    {
      "cell_type": "code",
      "source": [
        "# Modulus operator\n",
        "x = 19\n",
        "y = 3\n",
        "result = x % y\n",
        "print(result) \n"
      ],
      "metadata": {
        "colab": {
          "base_uri": "https://localhost:8080/"
        },
        "id": "sd5YS30JqeDu",
        "outputId": "5d922d34-732f-412c-87c1-2576949c62d2"
      },
      "execution_count": 32,
      "outputs": [
        {
          "output_type": "stream",
          "name": "stdout",
          "text": [
            "1\n"
          ]
        }
      ]
    },
    {
      "cell_type": "code",
      "source": [
        "# Exponentiation operator\n",
        "x = 2\n",
        "y = 3\n",
        "result = x ** y\n",
        "print(result) \n"
      ],
      "metadata": {
        "id": "NXPLiKxuqoxl",
        "outputId": "ef2a4d18-8c59-4450-d455-fa37fb79d46e",
        "colab": {
          "base_uri": "https://localhost:8080/"
        }
      },
      "execution_count": 33,
      "outputs": [
        {
          "output_type": "stream",
          "name": "stdout",
          "text": [
            "8\n"
          ]
        }
      ]
    },
    {
      "cell_type": "code",
      "source": [
        "# Floor Division operator\n",
        "x = 18\n",
        "y = 5\n",
        "result = x // y\n",
        "print(result) "
      ],
      "metadata": {
        "id": "0ydU3n2sq2u_",
        "outputId": "b3f8825b-3a7e-413e-eec8-f996e332dbe8",
        "colab": {
          "base_uri": "https://localhost:8080/"
        }
      },
      "execution_count": 34,
      "outputs": [
        {
          "output_type": "stream",
          "name": "stdout",
          "text": [
            "3\n"
          ]
        }
      ]
    }
  ]
}