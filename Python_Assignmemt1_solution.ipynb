{
  "nbformat": 4,
  "nbformat_minor": 0,
  "metadata": {
    "colab": {
      "provenance": [],
      "authorship_tag": "ABX9TyOFHJrDsN1vowF5GkDt6WJi",
      "include_colab_link": true
    },
    "kernelspec": {
      "name": "python3",
      "display_name": "Python 3"
    },
    "language_info": {
      "name": "python"
    }
  },
  "cells": [
    {
      "cell_type": "markdown",
      "metadata": {
        "id": "view-in-github",
        "colab_type": "text"
      },
      "source": [
        "<a href=\"https://colab.research.google.com/github/afshari-maryam/Python-Assignment1/blob/main/Python_Assignmemt1_solution.ipynb\" target=\"_parent\"><img src=\"https://colab.research.google.com/assets/colab-badge.svg\" alt=\"Open In Colab\"/></a>"
      ]
    },
    {
      "cell_type": "markdown",
      "source": [
        "#Python-Assignmemt1"
      ],
      "metadata": {
        "id": "PtuYsp4ija6I"
      }
    },
    {
      "cell_type": "markdown",
      "source": [
        "This assignmet is about Python Data Types\n",
        "\n",
        "Python Basics: Data types"
      ],
      "metadata": {
        "id": "zaSOvlQmjeGY"
      }
    },
    {
      "cell_type": "markdown",
      "source": [
        "#1.\n",
        " Use the constructor methods to create different data types in python (integer,float,string,list,tuple,dictionary,set etc.). Also use object literals to create those data types.**"
      ],
      "metadata": {
        "id": "SBXLMufIjgtf"
      }
    },
    {
      "cell_type": "code",
      "execution_count": 2,
      "metadata": {
        "id": "D6rIe8GajB9r",
        "outputId": "9f2b4605-5094-4ad1-b604-ec503a0e70c6",
        "colab": {
          "base_uri": "https://localhost:8080/"
        }
      },
      "outputs": [
        {
          "output_type": "execute_result",
          "data": {
            "text/plain": [
              "10"
            ]
          },
          "metadata": {},
          "execution_count": 2
        }
      ],
      "source": [
        "#Integer \n",
        "#constructor method\n",
        "x = int(10)\n",
        "x"
      ]
    },
    {
      "cell_type": "code",
      "source": [
        "#Integer \n",
        "#object litteral\n",
        "x=10\n",
        "x"
      ],
      "metadata": {
        "id": "vymR-L__l8Xx",
        "outputId": "c4e5174b-641b-4bd6-d5d7-6de8e53bc1d0",
        "colab": {
          "base_uri": "https://localhost:8080/"
        }
      },
      "execution_count": 3,
      "outputs": [
        {
          "output_type": "execute_result",
          "data": {
            "text/plain": [
              "10"
            ]
          },
          "metadata": {},
          "execution_count": 3
        }
      ]
    },
    {
      "cell_type": "code",
      "source": [
        "#Float\n",
        "#constructor method\n",
        "y = float(5.67)\n",
        "y"
      ],
      "metadata": {
        "id": "FiKYxB5NmSsG",
        "outputId": "0575bac1-5299-4afc-a106-7a4e73e465ed",
        "colab": {
          "base_uri": "https://localhost:8080/"
        }
      },
      "execution_count": 6,
      "outputs": [
        {
          "output_type": "execute_result",
          "data": {
            "text/plain": [
              "5.67"
            ]
          },
          "metadata": {},
          "execution_count": 6
        }
      ]
    },
    {
      "cell_type": "code",
      "source": [
        "#Float\n",
        "#object litteral\n",
        "y = 5.67\n",
        "y"
      ],
      "metadata": {
        "id": "YhINmVzKmfol",
        "outputId": "95d8be24-42eb-4e9d-9c25-dfa7ab3aab29",
        "colab": {
          "base_uri": "https://localhost:8080/"
        }
      },
      "execution_count": 7,
      "outputs": [
        {
          "output_type": "execute_result",
          "data": {
            "text/plain": [
              "5.67"
            ]
          },
          "metadata": {},
          "execution_count": 7
        }
      ]
    },
    {
      "cell_type": "code",
      "source": [
        "#String\n",
        "#constructor method\n",
        "s = str(\"hello Integrify\")\n",
        "s"
      ],
      "metadata": {
        "colab": {
          "base_uri": "https://localhost:8080/",
          "height": 36
        },
        "id": "4QOpZpa6mlgv",
        "outputId": "c16676fb-ab06-4e09-e2a6-f1d04590e139"
      },
      "execution_count": 8,
      "outputs": [
        {
          "output_type": "execute_result",
          "data": {
            "text/plain": [
              "'hello Integrify'"
            ],
            "application/vnd.google.colaboratory.intrinsic+json": {
              "type": "string"
            }
          },
          "metadata": {},
          "execution_count": 8
        }
      ]
    },
    {
      "cell_type": "code",
      "source": [
        "#String\n",
        "#object litteral\n",
        "s = \"hello Integrify\"\n",
        "s"
      ],
      "metadata": {
        "id": "bvGdaelKm5e6",
        "outputId": "2d7150ae-67a5-4447-9e14-19d877fc74c8",
        "colab": {
          "base_uri": "https://localhost:8080/",
          "height": 36
        }
      },
      "execution_count": 11,
      "outputs": [
        {
          "output_type": "execute_result",
          "data": {
            "text/plain": [
              "'hello Integrify'"
            ],
            "application/vnd.google.colaboratory.intrinsic+json": {
              "type": "string"
            }
          },
          "metadata": {},
          "execution_count": 11
        }
      ]
    }
  ]
}